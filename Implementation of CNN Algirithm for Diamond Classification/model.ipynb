{
 "cells": [
  {
   "cell_type": "code",
   "execution_count": null,
   "metadata": {},
   "outputs": [],
   "source": [
    "class Rute:\n",
    "    def __init__(self, nama, jarak, rutenya):\n",
    "        self.nama = nama\n",
    "        self.jarak = jarak\n",
    "        self.rutenya = rutenya\n",
    "\n",
    "def cari_jarak_terpendek(rutes):\n",
    "    rute_terpendek = None\n",
    "    for rute in rutes:\n",
    "        if rute_terpendek is None or rute.jarak < rute_terpendek.jarak:\n",
    "            rute_terpendek = rute\n",
    "    return rute_terpendek\n",
    "\n",
    "def main():\n",
    "    rutes = [\n",
    "        Rute(\"Rute 1\", 3.6, [\"Jl.Gereja\", \"Jl.Patuan Nagari\", \"Jl.Dr.Sutomo\", \"Jl.Tarutung\", \"Jl.Liberty Manik\", \"Jl.Simanjalo\", \"Gereja HKBP Soposurung Balige\"]),\n",
    "        Rute(\"Rute 2\", 3.0, [\"Jl.Gereja\", \"Jl.Patuan Nagari\", \"Jl.Liberti Manik\", \"Jl.Simanjalo\", \"Gereja HKBP Soposurung Balige\"]),\n",
    "        Rute(\"Rute 3\", 3.7, [\"Jl. Gereja\", \"Jl.Somba Debata\", \"Jl.By pass Balige\", \"Jl.Simanjalo\", \"Gereja HKBP Soposurung Balige\"]),\n",
    "        Rute(\"Rute 4\", 3.4, [\"Jl.Gereja\", \"Jl.Patuan Nagari\", \"Jl.Dr.Sutomo\", \"Jl.Tarutung\", \"Jl.Malanton Siregar\", \"Jl.Liberty Manik\", \"Jl.Simanjalo\", \"Gereja HKBP Soposurung Balige\"]),\n",
    "        Rute(\"Rute 5\", 2.9, [\"Jl.Gereja\", \"Jl.Raja Bonanionan\", \"Jl.Sianipar\", \"Jl.Simanjalo\", \"Gereja HKBP Soposurung Balige\"]),\n",
    "    ]\n",
    "\n",
    "    rute_terpendek = cari_jarak_terpendek(rutes)\n",
    "\n",
    "    print(f\"\\nRute terpendek adalah {rute_terpendek.nama} dengan jarak {rute_terpendek.jarak} km.\")\n",
    "    print(\"Rutenya:\", \" -> \".join(rute_terpendek.rutenya))\n",
    "\n",
    "    print(\"\\nSemua Rute:\")\n",
    "    for rute in rutes:\n",
    "        print(f\"{rute.nama} - Jarak: {rute.jarak} km - Rutenya: {' -> '.join(rute.rutenya)}\")\n",
    "\n",
    "if __name__ == \"__main__\":\n",
    "    main()"
   ]
  },
  {
   "cell_type": "code",
   "execution_count": null,
   "metadata": {},
   "outputs": [],
   "source": []
  }
 ],
 "metadata": {
  "language_info": {
   "name": "python"
  }
 },
 "nbformat": 4,
 "nbformat_minor": 2
}
